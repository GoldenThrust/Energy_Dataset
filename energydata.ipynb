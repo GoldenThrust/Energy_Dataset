{
  "nbformat": 4,
  "nbformat_minor": 0,
  "metadata": {
    "colab": {
      "provenance": [],
      "authorship_tag": "ABX9TyMlVvyou81BpAI8ng9ClKWV",
      "include_colab_link": true
    },
    "kernelspec": {
      "name": "python3",
      "display_name": "Python 3"
    },
    "language_info": {
      "name": "python"
    }
  },
  "cells": [
    {
      "cell_type": "markdown",
      "metadata": {
        "id": "view-in-github",
        "colab_type": "text"
      },
      "source": [
        "<a href=\"https://colab.research.google.com/github/GoldenThrust/Energy_Dataset/blob/main/energydata.ipynb\" target=\"_parent\"><img src=\"https://colab.research.google.com/assets/colab-badge.svg\" alt=\"Open In Colab\"/></a>"
      ]
    },
    {
      "cell_type": "code",
      "execution_count": 1,
      "metadata": {
        "id": "pL6F0c9ThV-V"
      },
      "outputs": [],
      "source": [
        "import numpy as np\n",
        "import pandas as pd\n",
        "import matplotlib.pyplot as plt\n",
        "import seaborn as sns\n",
        "from math import sqrt\n",
        "from sklearn.metrics import mean_squared_error\n",
        "from sklearn.linear_model import LinearRegression\n",
        "from sklearn.model_selection import train_test_split\n",
        "from sklearn.metrics import mean_absolute_error\n",
        "from sklearn.preprocessing import MinMaxScaler\n",
        "from sklearn.linear_model import Ridge, Lasso"
      ]
    },
    {
      "cell_type": "code",
      "source": [
        "df = pd.read_csv('energydata_complete.csv')"
      ],
      "metadata": {
        "id": "86IG8P87hbTP"
      },
      "execution_count": 2,
      "outputs": []
    },
    {
      "cell_type": "code",
      "source": [
        "df"
      ],
      "metadata": {
        "colab": {
          "base_uri": "https://localhost:8080/",
          "height": 790
        },
        "id": "Ss2sTNXRh1r5",
        "outputId": "fb5fc9da-2c42-4389-ba95-061a1508c554"
      },
      "execution_count": 3,
      "outputs": [
        {
          "output_type": "execute_result",
          "data": {
            "text/plain": [
              "                      date  Appliances  lights         T1       RH_1  \\\n",
              "0      2016-01-11 17:00:00          60      30  19.890000  47.596667   \n",
              "1      2016-01-11 17:10:00          60      30  19.890000  46.693333   \n",
              "2      2016-01-11 17:20:00          50      30  19.890000  46.300000   \n",
              "3      2016-01-11 17:30:00          50      40  19.890000  46.066667   \n",
              "4      2016-01-11 17:40:00          60      40  19.890000  46.333333   \n",
              "...                    ...         ...     ...        ...        ...   \n",
              "19730  2016-05-27 17:20:00         100       0  25.566667  46.560000   \n",
              "19731  2016-05-27 17:30:00          90       0  25.500000  46.500000   \n",
              "19732  2016-05-27 17:40:00         270      10  25.500000  46.596667   \n",
              "19733  2016-05-27 17:50:00         420      10  25.500000  46.990000   \n",
              "19734  2016-05-27 18:00:00         430      10  25.500000  46.600000   \n",
              "\n",
              "              T2       RH_2         T3       RH_3         T4  ...         T9  \\\n",
              "0      19.200000  44.790000  19.790000  44.730000  19.000000  ...  17.033333   \n",
              "1      19.200000  44.722500  19.790000  44.790000  19.000000  ...  17.066667   \n",
              "2      19.200000  44.626667  19.790000  44.933333  18.926667  ...  17.000000   \n",
              "3      19.200000  44.590000  19.790000  45.000000  18.890000  ...  17.000000   \n",
              "4      19.200000  44.530000  19.790000  45.000000  18.890000  ...  17.000000   \n",
              "...          ...        ...        ...        ...        ...  ...        ...   \n",
              "19730  25.890000  42.025714  27.200000  41.163333  24.700000  ...  23.200000   \n",
              "19731  25.754000  42.080000  27.133333  41.223333  24.700000  ...  23.200000   \n",
              "19732  25.628571  42.768571  27.050000  41.690000  24.700000  ...  23.200000   \n",
              "19733  25.414000  43.036000  26.890000  41.290000  24.700000  ...  23.200000   \n",
              "19734  25.264286  42.971429  26.823333  41.156667  24.700000  ...  23.200000   \n",
              "\n",
              "          RH_9      T_out  Press_mm_hg     RH_out  Windspeed  Visibility  \\\n",
              "0      45.5300   6.600000        733.5  92.000000   7.000000   63.000000   \n",
              "1      45.5600   6.483333        733.6  92.000000   6.666667   59.166667   \n",
              "2      45.5000   6.366667        733.7  92.000000   6.333333   55.333333   \n",
              "3      45.4000   6.250000        733.8  92.000000   6.000000   51.500000   \n",
              "4      45.4000   6.133333        733.9  92.000000   5.666667   47.666667   \n",
              "...        ...        ...          ...        ...        ...         ...   \n",
              "19730  46.7900  22.733333        755.2  55.666667   3.333333   23.666667   \n",
              "19731  46.7900  22.600000        755.2  56.000000   3.500000   24.500000   \n",
              "19732  46.7900  22.466667        755.2  56.333333   3.666667   25.333333   \n",
              "19733  46.8175  22.333333        755.2  56.666667   3.833333   26.166667   \n",
              "19734  46.8450  22.200000        755.2  57.000000   4.000000   27.000000   \n",
              "\n",
              "       Tdewpoint        rv1        rv2  \n",
              "0       5.300000  13.275433  13.275433  \n",
              "1       5.200000  18.606195  18.606195  \n",
              "2       5.100000  28.642668  28.642668  \n",
              "3       5.000000  45.410389  45.410389  \n",
              "4       4.900000  10.084097  10.084097  \n",
              "...          ...        ...        ...  \n",
              "19730  13.333333  43.096812  43.096812  \n",
              "19731  13.300000  49.282940  49.282940  \n",
              "19732  13.266667  29.199117  29.199117  \n",
              "19733  13.233333   6.322784   6.322784  \n",
              "19734  13.200000  34.118851  34.118851  \n",
              "\n",
              "[19735 rows x 29 columns]"
            ],
            "text/html": [
              "\n",
              "  <div id=\"df-098e7530-16df-42ff-ade3-178260ac61bf\" class=\"colab-df-container\">\n",
              "    <div>\n",
              "<style scoped>\n",
              "    .dataframe tbody tr th:only-of-type {\n",
              "        vertical-align: middle;\n",
              "    }\n",
              "\n",
              "    .dataframe tbody tr th {\n",
              "        vertical-align: top;\n",
              "    }\n",
              "\n",
              "    .dataframe thead th {\n",
              "        text-align: right;\n",
              "    }\n",
              "</style>\n",
              "<table border=\"1\" class=\"dataframe\">\n",
              "  <thead>\n",
              "    <tr style=\"text-align: right;\">\n",
              "      <th></th>\n",
              "      <th>date</th>\n",
              "      <th>Appliances</th>\n",
              "      <th>lights</th>\n",
              "      <th>T1</th>\n",
              "      <th>RH_1</th>\n",
              "      <th>T2</th>\n",
              "      <th>RH_2</th>\n",
              "      <th>T3</th>\n",
              "      <th>RH_3</th>\n",
              "      <th>T4</th>\n",
              "      <th>...</th>\n",
              "      <th>T9</th>\n",
              "      <th>RH_9</th>\n",
              "      <th>T_out</th>\n",
              "      <th>Press_mm_hg</th>\n",
              "      <th>RH_out</th>\n",
              "      <th>Windspeed</th>\n",
              "      <th>Visibility</th>\n",
              "      <th>Tdewpoint</th>\n",
              "      <th>rv1</th>\n",
              "      <th>rv2</th>\n",
              "    </tr>\n",
              "  </thead>\n",
              "  <tbody>\n",
              "    <tr>\n",
              "      <th>0</th>\n",
              "      <td>2016-01-11 17:00:00</td>\n",
              "      <td>60</td>\n",
              "      <td>30</td>\n",
              "      <td>19.890000</td>\n",
              "      <td>47.596667</td>\n",
              "      <td>19.200000</td>\n",
              "      <td>44.790000</td>\n",
              "      <td>19.790000</td>\n",
              "      <td>44.730000</td>\n",
              "      <td>19.000000</td>\n",
              "      <td>...</td>\n",
              "      <td>17.033333</td>\n",
              "      <td>45.5300</td>\n",
              "      <td>6.600000</td>\n",
              "      <td>733.5</td>\n",
              "      <td>92.000000</td>\n",
              "      <td>7.000000</td>\n",
              "      <td>63.000000</td>\n",
              "      <td>5.300000</td>\n",
              "      <td>13.275433</td>\n",
              "      <td>13.275433</td>\n",
              "    </tr>\n",
              "    <tr>\n",
              "      <th>1</th>\n",
              "      <td>2016-01-11 17:10:00</td>\n",
              "      <td>60</td>\n",
              "      <td>30</td>\n",
              "      <td>19.890000</td>\n",
              "      <td>46.693333</td>\n",
              "      <td>19.200000</td>\n",
              "      <td>44.722500</td>\n",
              "      <td>19.790000</td>\n",
              "      <td>44.790000</td>\n",
              "      <td>19.000000</td>\n",
              "      <td>...</td>\n",
              "      <td>17.066667</td>\n",
              "      <td>45.5600</td>\n",
              "      <td>6.483333</td>\n",
              "      <td>733.6</td>\n",
              "      <td>92.000000</td>\n",
              "      <td>6.666667</td>\n",
              "      <td>59.166667</td>\n",
              "      <td>5.200000</td>\n",
              "      <td>18.606195</td>\n",
              "      <td>18.606195</td>\n",
              "    </tr>\n",
              "    <tr>\n",
              "      <th>2</th>\n",
              "      <td>2016-01-11 17:20:00</td>\n",
              "      <td>50</td>\n",
              "      <td>30</td>\n",
              "      <td>19.890000</td>\n",
              "      <td>46.300000</td>\n",
              "      <td>19.200000</td>\n",
              "      <td>44.626667</td>\n",
              "      <td>19.790000</td>\n",
              "      <td>44.933333</td>\n",
              "      <td>18.926667</td>\n",
              "      <td>...</td>\n",
              "      <td>17.000000</td>\n",
              "      <td>45.5000</td>\n",
              "      <td>6.366667</td>\n",
              "      <td>733.7</td>\n",
              "      <td>92.000000</td>\n",
              "      <td>6.333333</td>\n",
              "      <td>55.333333</td>\n",
              "      <td>5.100000</td>\n",
              "      <td>28.642668</td>\n",
              "      <td>28.642668</td>\n",
              "    </tr>\n",
              "    <tr>\n",
              "      <th>3</th>\n",
              "      <td>2016-01-11 17:30:00</td>\n",
              "      <td>50</td>\n",
              "      <td>40</td>\n",
              "      <td>19.890000</td>\n",
              "      <td>46.066667</td>\n",
              "      <td>19.200000</td>\n",
              "      <td>44.590000</td>\n",
              "      <td>19.790000</td>\n",
              "      <td>45.000000</td>\n",
              "      <td>18.890000</td>\n",
              "      <td>...</td>\n",
              "      <td>17.000000</td>\n",
              "      <td>45.4000</td>\n",
              "      <td>6.250000</td>\n",
              "      <td>733.8</td>\n",
              "      <td>92.000000</td>\n",
              "      <td>6.000000</td>\n",
              "      <td>51.500000</td>\n",
              "      <td>5.000000</td>\n",
              "      <td>45.410389</td>\n",
              "      <td>45.410389</td>\n",
              "    </tr>\n",
              "    <tr>\n",
              "      <th>4</th>\n",
              "      <td>2016-01-11 17:40:00</td>\n",
              "      <td>60</td>\n",
              "      <td>40</td>\n",
              "      <td>19.890000</td>\n",
              "      <td>46.333333</td>\n",
              "      <td>19.200000</td>\n",
              "      <td>44.530000</td>\n",
              "      <td>19.790000</td>\n",
              "      <td>45.000000</td>\n",
              "      <td>18.890000</td>\n",
              "      <td>...</td>\n",
              "      <td>17.000000</td>\n",
              "      <td>45.4000</td>\n",
              "      <td>6.133333</td>\n",
              "      <td>733.9</td>\n",
              "      <td>92.000000</td>\n",
              "      <td>5.666667</td>\n",
              "      <td>47.666667</td>\n",
              "      <td>4.900000</td>\n",
              "      <td>10.084097</td>\n",
              "      <td>10.084097</td>\n",
              "    </tr>\n",
              "    <tr>\n",
              "      <th>...</th>\n",
              "      <td>...</td>\n",
              "      <td>...</td>\n",
              "      <td>...</td>\n",
              "      <td>...</td>\n",
              "      <td>...</td>\n",
              "      <td>...</td>\n",
              "      <td>...</td>\n",
              "      <td>...</td>\n",
              "      <td>...</td>\n",
              "      <td>...</td>\n",
              "      <td>...</td>\n",
              "      <td>...</td>\n",
              "      <td>...</td>\n",
              "      <td>...</td>\n",
              "      <td>...</td>\n",
              "      <td>...</td>\n",
              "      <td>...</td>\n",
              "      <td>...</td>\n",
              "      <td>...</td>\n",
              "      <td>...</td>\n",
              "      <td>...</td>\n",
              "    </tr>\n",
              "    <tr>\n",
              "      <th>19730</th>\n",
              "      <td>2016-05-27 17:20:00</td>\n",
              "      <td>100</td>\n",
              "      <td>0</td>\n",
              "      <td>25.566667</td>\n",
              "      <td>46.560000</td>\n",
              "      <td>25.890000</td>\n",
              "      <td>42.025714</td>\n",
              "      <td>27.200000</td>\n",
              "      <td>41.163333</td>\n",
              "      <td>24.700000</td>\n",
              "      <td>...</td>\n",
              "      <td>23.200000</td>\n",
              "      <td>46.7900</td>\n",
              "      <td>22.733333</td>\n",
              "      <td>755.2</td>\n",
              "      <td>55.666667</td>\n",
              "      <td>3.333333</td>\n",
              "      <td>23.666667</td>\n",
              "      <td>13.333333</td>\n",
              "      <td>43.096812</td>\n",
              "      <td>43.096812</td>\n",
              "    </tr>\n",
              "    <tr>\n",
              "      <th>19731</th>\n",
              "      <td>2016-05-27 17:30:00</td>\n",
              "      <td>90</td>\n",
              "      <td>0</td>\n",
              "      <td>25.500000</td>\n",
              "      <td>46.500000</td>\n",
              "      <td>25.754000</td>\n",
              "      <td>42.080000</td>\n",
              "      <td>27.133333</td>\n",
              "      <td>41.223333</td>\n",
              "      <td>24.700000</td>\n",
              "      <td>...</td>\n",
              "      <td>23.200000</td>\n",
              "      <td>46.7900</td>\n",
              "      <td>22.600000</td>\n",
              "      <td>755.2</td>\n",
              "      <td>56.000000</td>\n",
              "      <td>3.500000</td>\n",
              "      <td>24.500000</td>\n",
              "      <td>13.300000</td>\n",
              "      <td>49.282940</td>\n",
              "      <td>49.282940</td>\n",
              "    </tr>\n",
              "    <tr>\n",
              "      <th>19732</th>\n",
              "      <td>2016-05-27 17:40:00</td>\n",
              "      <td>270</td>\n",
              "      <td>10</td>\n",
              "      <td>25.500000</td>\n",
              "      <td>46.596667</td>\n",
              "      <td>25.628571</td>\n",
              "      <td>42.768571</td>\n",
              "      <td>27.050000</td>\n",
              "      <td>41.690000</td>\n",
              "      <td>24.700000</td>\n",
              "      <td>...</td>\n",
              "      <td>23.200000</td>\n",
              "      <td>46.7900</td>\n",
              "      <td>22.466667</td>\n",
              "      <td>755.2</td>\n",
              "      <td>56.333333</td>\n",
              "      <td>3.666667</td>\n",
              "      <td>25.333333</td>\n",
              "      <td>13.266667</td>\n",
              "      <td>29.199117</td>\n",
              "      <td>29.199117</td>\n",
              "    </tr>\n",
              "    <tr>\n",
              "      <th>19733</th>\n",
              "      <td>2016-05-27 17:50:00</td>\n",
              "      <td>420</td>\n",
              "      <td>10</td>\n",
              "      <td>25.500000</td>\n",
              "      <td>46.990000</td>\n",
              "      <td>25.414000</td>\n",
              "      <td>43.036000</td>\n",
              "      <td>26.890000</td>\n",
              "      <td>41.290000</td>\n",
              "      <td>24.700000</td>\n",
              "      <td>...</td>\n",
              "      <td>23.200000</td>\n",
              "      <td>46.8175</td>\n",
              "      <td>22.333333</td>\n",
              "      <td>755.2</td>\n",
              "      <td>56.666667</td>\n",
              "      <td>3.833333</td>\n",
              "      <td>26.166667</td>\n",
              "      <td>13.233333</td>\n",
              "      <td>6.322784</td>\n",
              "      <td>6.322784</td>\n",
              "    </tr>\n",
              "    <tr>\n",
              "      <th>19734</th>\n",
              "      <td>2016-05-27 18:00:00</td>\n",
              "      <td>430</td>\n",
              "      <td>10</td>\n",
              "      <td>25.500000</td>\n",
              "      <td>46.600000</td>\n",
              "      <td>25.264286</td>\n",
              "      <td>42.971429</td>\n",
              "      <td>26.823333</td>\n",
              "      <td>41.156667</td>\n",
              "      <td>24.700000</td>\n",
              "      <td>...</td>\n",
              "      <td>23.200000</td>\n",
              "      <td>46.8450</td>\n",
              "      <td>22.200000</td>\n",
              "      <td>755.2</td>\n",
              "      <td>57.000000</td>\n",
              "      <td>4.000000</td>\n",
              "      <td>27.000000</td>\n",
              "      <td>13.200000</td>\n",
              "      <td>34.118851</td>\n",
              "      <td>34.118851</td>\n",
              "    </tr>\n",
              "  </tbody>\n",
              "</table>\n",
              "<p>19735 rows × 29 columns</p>\n",
              "</div>\n",
              "    <div class=\"colab-df-buttons\">\n",
              "\n",
              "  <div class=\"colab-df-container\">\n",
              "    <button class=\"colab-df-convert\" onclick=\"convertToInteractive('df-098e7530-16df-42ff-ade3-178260ac61bf')\"\n",
              "            title=\"Convert this dataframe to an interactive table.\"\n",
              "            style=\"display:none;\">\n",
              "\n",
              "  <svg xmlns=\"http://www.w3.org/2000/svg\" height=\"24px\" viewBox=\"0 -960 960 960\">\n",
              "    <path d=\"M120-120v-720h720v720H120Zm60-500h600v-160H180v160Zm220 220h160v-160H400v160Zm0 220h160v-160H400v160ZM180-400h160v-160H180v160Zm440 0h160v-160H620v160ZM180-180h160v-160H180v160Zm440 0h160v-160H620v160Z\"/>\n",
              "  </svg>\n",
              "    </button>\n",
              "\n",
              "  <style>\n",
              "    .colab-df-container {\n",
              "      display:flex;\n",
              "      gap: 12px;\n",
              "    }\n",
              "\n",
              "    .colab-df-convert {\n",
              "      background-color: #E8F0FE;\n",
              "      border: none;\n",
              "      border-radius: 50%;\n",
              "      cursor: pointer;\n",
              "      display: none;\n",
              "      fill: #1967D2;\n",
              "      height: 32px;\n",
              "      padding: 0 0 0 0;\n",
              "      width: 32px;\n",
              "    }\n",
              "\n",
              "    .colab-df-convert:hover {\n",
              "      background-color: #E2EBFA;\n",
              "      box-shadow: 0px 1px 2px rgba(60, 64, 67, 0.3), 0px 1px 3px 1px rgba(60, 64, 67, 0.15);\n",
              "      fill: #174EA6;\n",
              "    }\n",
              "\n",
              "    .colab-df-buttons div {\n",
              "      margin-bottom: 4px;\n",
              "    }\n",
              "\n",
              "    [theme=dark] .colab-df-convert {\n",
              "      background-color: #3B4455;\n",
              "      fill: #D2E3FC;\n",
              "    }\n",
              "\n",
              "    [theme=dark] .colab-df-convert:hover {\n",
              "      background-color: #434B5C;\n",
              "      box-shadow: 0px 1px 3px 1px rgba(0, 0, 0, 0.15);\n",
              "      filter: drop-shadow(0px 1px 2px rgba(0, 0, 0, 0.3));\n",
              "      fill: #FFFFFF;\n",
              "    }\n",
              "  </style>\n",
              "\n",
              "    <script>\n",
              "      const buttonEl =\n",
              "        document.querySelector('#df-098e7530-16df-42ff-ade3-178260ac61bf button.colab-df-convert');\n",
              "      buttonEl.style.display =\n",
              "        google.colab.kernel.accessAllowed ? 'block' : 'none';\n",
              "\n",
              "      async function convertToInteractive(key) {\n",
              "        const element = document.querySelector('#df-098e7530-16df-42ff-ade3-178260ac61bf');\n",
              "        const dataTable =\n",
              "          await google.colab.kernel.invokeFunction('convertToInteractive',\n",
              "                                                    [key], {});\n",
              "        if (!dataTable) return;\n",
              "\n",
              "        const docLinkHtml = 'Like what you see? Visit the ' +\n",
              "          '<a target=\"_blank\" href=https://colab.research.google.com/notebooks/data_table.ipynb>data table notebook</a>'\n",
              "          + ' to learn more about interactive tables.';\n",
              "        element.innerHTML = '';\n",
              "        dataTable['output_type'] = 'display_data';\n",
              "        await google.colab.output.renderOutput(dataTable, element);\n",
              "        const docLink = document.createElement('div');\n",
              "        docLink.innerHTML = docLinkHtml;\n",
              "        element.appendChild(docLink);\n",
              "      }\n",
              "    </script>\n",
              "  </div>\n",
              "\n",
              "\n",
              "<div id=\"df-b8b8d40c-87de-4570-b853-4b4901ccaabd\">\n",
              "  <button class=\"colab-df-quickchart\" onclick=\"quickchart('df-b8b8d40c-87de-4570-b853-4b4901ccaabd')\"\n",
              "            title=\"Suggest charts.\"\n",
              "            style=\"display:none;\">\n",
              "\n",
              "<svg xmlns=\"http://www.w3.org/2000/svg\" height=\"24px\"viewBox=\"0 0 24 24\"\n",
              "     width=\"24px\">\n",
              "    <g>\n",
              "        <path d=\"M19 3H5c-1.1 0-2 .9-2 2v14c0 1.1.9 2 2 2h14c1.1 0 2-.9 2-2V5c0-1.1-.9-2-2-2zM9 17H7v-7h2v7zm4 0h-2V7h2v10zm4 0h-2v-4h2v4z\"/>\n",
              "    </g>\n",
              "</svg>\n",
              "  </button>\n",
              "\n",
              "<style>\n",
              "  .colab-df-quickchart {\n",
              "      --bg-color: #E8F0FE;\n",
              "      --fill-color: #1967D2;\n",
              "      --hover-bg-color: #E2EBFA;\n",
              "      --hover-fill-color: #174EA6;\n",
              "      --disabled-fill-color: #AAA;\n",
              "      --disabled-bg-color: #DDD;\n",
              "  }\n",
              "\n",
              "  [theme=dark] .colab-df-quickchart {\n",
              "      --bg-color: #3B4455;\n",
              "      --fill-color: #D2E3FC;\n",
              "      --hover-bg-color: #434B5C;\n",
              "      --hover-fill-color: #FFFFFF;\n",
              "      --disabled-bg-color: #3B4455;\n",
              "      --disabled-fill-color: #666;\n",
              "  }\n",
              "\n",
              "  .colab-df-quickchart {\n",
              "    background-color: var(--bg-color);\n",
              "    border: none;\n",
              "    border-radius: 50%;\n",
              "    cursor: pointer;\n",
              "    display: none;\n",
              "    fill: var(--fill-color);\n",
              "    height: 32px;\n",
              "    padding: 0;\n",
              "    width: 32px;\n",
              "  }\n",
              "\n",
              "  .colab-df-quickchart:hover {\n",
              "    background-color: var(--hover-bg-color);\n",
              "    box-shadow: 0 1px 2px rgba(60, 64, 67, 0.3), 0 1px 3px 1px rgba(60, 64, 67, 0.15);\n",
              "    fill: var(--button-hover-fill-color);\n",
              "  }\n",
              "\n",
              "  .colab-df-quickchart-complete:disabled,\n",
              "  .colab-df-quickchart-complete:disabled:hover {\n",
              "    background-color: var(--disabled-bg-color);\n",
              "    fill: var(--disabled-fill-color);\n",
              "    box-shadow: none;\n",
              "  }\n",
              "\n",
              "  .colab-df-spinner {\n",
              "    border: 2px solid var(--fill-color);\n",
              "    border-color: transparent;\n",
              "    border-bottom-color: var(--fill-color);\n",
              "    animation:\n",
              "      spin 1s steps(1) infinite;\n",
              "  }\n",
              "\n",
              "  @keyframes spin {\n",
              "    0% {\n",
              "      border-color: transparent;\n",
              "      border-bottom-color: var(--fill-color);\n",
              "      border-left-color: var(--fill-color);\n",
              "    }\n",
              "    20% {\n",
              "      border-color: transparent;\n",
              "      border-left-color: var(--fill-color);\n",
              "      border-top-color: var(--fill-color);\n",
              "    }\n",
              "    30% {\n",
              "      border-color: transparent;\n",
              "      border-left-color: var(--fill-color);\n",
              "      border-top-color: var(--fill-color);\n",
              "      border-right-color: var(--fill-color);\n",
              "    }\n",
              "    40% {\n",
              "      border-color: transparent;\n",
              "      border-right-color: var(--fill-color);\n",
              "      border-top-color: var(--fill-color);\n",
              "    }\n",
              "    60% {\n",
              "      border-color: transparent;\n",
              "      border-right-color: var(--fill-color);\n",
              "    }\n",
              "    80% {\n",
              "      border-color: transparent;\n",
              "      border-right-color: var(--fill-color);\n",
              "      border-bottom-color: var(--fill-color);\n",
              "    }\n",
              "    90% {\n",
              "      border-color: transparent;\n",
              "      border-bottom-color: var(--fill-color);\n",
              "    }\n",
              "  }\n",
              "</style>\n",
              "\n",
              "  <script>\n",
              "    async function quickchart(key) {\n",
              "      const quickchartButtonEl =\n",
              "        document.querySelector('#' + key + ' button');\n",
              "      quickchartButtonEl.disabled = true;  // To prevent multiple clicks.\n",
              "      quickchartButtonEl.classList.add('colab-df-spinner');\n",
              "      try {\n",
              "        const charts = await google.colab.kernel.invokeFunction(\n",
              "            'suggestCharts', [key], {});\n",
              "      } catch (error) {\n",
              "        console.error('Error during call to suggestCharts:', error);\n",
              "      }\n",
              "      quickchartButtonEl.classList.remove('colab-df-spinner');\n",
              "      quickchartButtonEl.classList.add('colab-df-quickchart-complete');\n",
              "    }\n",
              "    (() => {\n",
              "      let quickchartButtonEl =\n",
              "        document.querySelector('#df-b8b8d40c-87de-4570-b853-4b4901ccaabd button');\n",
              "      quickchartButtonEl.style.display =\n",
              "        google.colab.kernel.accessAllowed ? 'block' : 'none';\n",
              "    })();\n",
              "  </script>\n",
              "</div>\n",
              "    </div>\n",
              "  </div>\n"
            ]
          },
          "metadata": {},
          "execution_count": 3
        }
      ]
    },
    {
      "cell_type": "code",
      "source": [
        "df.info()"
      ],
      "metadata": {
        "colab": {
          "base_uri": "https://localhost:8080/"
        },
        "id": "1EfHpJfpiSce",
        "outputId": "813e2878-e1b7-49d8-a3b8-5531fd358a08"
      },
      "execution_count": 4,
      "outputs": [
        {
          "output_type": "stream",
          "name": "stdout",
          "text": [
            "<class 'pandas.core.frame.DataFrame'>\n",
            "RangeIndex: 19735 entries, 0 to 19734\n",
            "Data columns (total 29 columns):\n",
            " #   Column       Non-Null Count  Dtype  \n",
            "---  ------       --------------  -----  \n",
            " 0   date         19735 non-null  object \n",
            " 1   Appliances   19735 non-null  int64  \n",
            " 2   lights       19735 non-null  int64  \n",
            " 3   T1           19735 non-null  float64\n",
            " 4   RH_1         19735 non-null  float64\n",
            " 5   T2           19735 non-null  float64\n",
            " 6   RH_2         19735 non-null  float64\n",
            " 7   T3           19735 non-null  float64\n",
            " 8   RH_3         19735 non-null  float64\n",
            " 9   T4           19735 non-null  float64\n",
            " 10  RH_4         19735 non-null  float64\n",
            " 11  T5           19735 non-null  float64\n",
            " 12  RH_5         19735 non-null  float64\n",
            " 13  T6           19735 non-null  float64\n",
            " 14  RH_6         19735 non-null  float64\n",
            " 15  T7           19735 non-null  float64\n",
            " 16  RH_7         19735 non-null  float64\n",
            " 17  T8           19735 non-null  float64\n",
            " 18  RH_8         19735 non-null  float64\n",
            " 19  T9           19735 non-null  float64\n",
            " 20  RH_9         19735 non-null  float64\n",
            " 21  T_out        19735 non-null  float64\n",
            " 22  Press_mm_hg  19735 non-null  float64\n",
            " 23  RH_out       19735 non-null  float64\n",
            " 24  Windspeed    19735 non-null  float64\n",
            " 25  Visibility   19735 non-null  float64\n",
            " 26  Tdewpoint    19735 non-null  float64\n",
            " 27  rv1          19735 non-null  float64\n",
            " 28  rv2          19735 non-null  float64\n",
            "dtypes: float64(26), int64(2), object(1)\n",
            "memory usage: 4.4+ MB\n"
          ]
        }
      ]
    },
    {
      "cell_type": "code",
      "source": [
        "df.describe()"
      ],
      "metadata": {
        "colab": {
          "base_uri": "https://localhost:8080/",
          "height": 349
        },
        "id": "eUxEubmwiTqH",
        "outputId": "725f4e23-362e-4402-fd3d-2df8b3c8ff11"
      },
      "execution_count": 5,
      "outputs": [
        {
          "output_type": "execute_result",
          "data": {
            "text/plain": [
              "         Appliances        lights            T1          RH_1            T2  \\\n",
              "count  19735.000000  19735.000000  19735.000000  19735.000000  19735.000000   \n",
              "mean      97.694958      3.801875     21.686571     40.259739     20.341219   \n",
              "std      102.524891      7.935988      1.606066      3.979299      2.192974   \n",
              "min       10.000000      0.000000     16.790000     27.023333     16.100000   \n",
              "25%       50.000000      0.000000     20.760000     37.333333     18.790000   \n",
              "50%       60.000000      0.000000     21.600000     39.656667     20.000000   \n",
              "75%      100.000000      0.000000     22.600000     43.066667     21.500000   \n",
              "max     1080.000000     70.000000     26.260000     63.360000     29.856667   \n",
              "\n",
              "               RH_2            T3          RH_3            T4          RH_4  \\\n",
              "count  19735.000000  19735.000000  19735.000000  19735.000000  19735.000000   \n",
              "mean      40.420420     22.267611     39.242500     20.855335     39.026904   \n",
              "std        4.069813      2.006111      3.254576      2.042884      4.341321   \n",
              "min       20.463333     17.200000     28.766667     15.100000     27.660000   \n",
              "25%       37.900000     20.790000     36.900000     19.530000     35.530000   \n",
              "50%       40.500000     22.100000     38.530000     20.666667     38.400000   \n",
              "75%       43.260000     23.290000     41.760000     22.100000     42.156667   \n",
              "max       56.026667     29.236000     50.163333     26.200000     51.090000   \n",
              "\n",
              "       ...            T9          RH_9         T_out   Press_mm_hg  \\\n",
              "count  ...  19735.000000  19735.000000  19735.000000  19735.000000   \n",
              "mean   ...     19.485828     41.552401      7.411665    755.522602   \n",
              "std    ...      2.014712      4.151497      5.317409      7.399441   \n",
              "min    ...     14.890000     29.166667     -5.000000    729.300000   \n",
              "25%    ...     18.000000     38.500000      3.666667    750.933333   \n",
              "50%    ...     19.390000     40.900000      6.916667    756.100000   \n",
              "75%    ...     20.600000     44.338095     10.408333    760.933333   \n",
              "max    ...     24.500000     53.326667     26.100000    772.300000   \n",
              "\n",
              "             RH_out     Windspeed    Visibility     Tdewpoint           rv1  \\\n",
              "count  19735.000000  19735.000000  19735.000000  19735.000000  19735.000000   \n",
              "mean      79.750418      4.039752     38.330834      3.760707     24.988033   \n",
              "std       14.901088      2.451221     11.794719      4.194648     14.496634   \n",
              "min       24.000000      0.000000      1.000000     -6.600000      0.005322   \n",
              "25%       70.333333      2.000000     29.000000      0.900000     12.497889   \n",
              "50%       83.666667      3.666667     40.000000      3.433333     24.897653   \n",
              "75%       91.666667      5.500000     40.000000      6.566667     37.583769   \n",
              "max      100.000000     14.000000     66.000000     15.500000     49.996530   \n",
              "\n",
              "                rv2  \n",
              "count  19735.000000  \n",
              "mean      24.988033  \n",
              "std       14.496634  \n",
              "min        0.005322  \n",
              "25%       12.497889  \n",
              "50%       24.897653  \n",
              "75%       37.583769  \n",
              "max       49.996530  \n",
              "\n",
              "[8 rows x 28 columns]"
            ],
            "text/html": [
              "\n",
              "  <div id=\"df-e3e918c5-d750-4c34-8529-54d9c79373c6\" class=\"colab-df-container\">\n",
              "    <div>\n",
              "<style scoped>\n",
              "    .dataframe tbody tr th:only-of-type {\n",
              "        vertical-align: middle;\n",
              "    }\n",
              "\n",
              "    .dataframe tbody tr th {\n",
              "        vertical-align: top;\n",
              "    }\n",
              "\n",
              "    .dataframe thead th {\n",
              "        text-align: right;\n",
              "    }\n",
              "</style>\n",
              "<table border=\"1\" class=\"dataframe\">\n",
              "  <thead>\n",
              "    <tr style=\"text-align: right;\">\n",
              "      <th></th>\n",
              "      <th>Appliances</th>\n",
              "      <th>lights</th>\n",
              "      <th>T1</th>\n",
              "      <th>RH_1</th>\n",
              "      <th>T2</th>\n",
              "      <th>RH_2</th>\n",
              "      <th>T3</th>\n",
              "      <th>RH_3</th>\n",
              "      <th>T4</th>\n",
              "      <th>RH_4</th>\n",
              "      <th>...</th>\n",
              "      <th>T9</th>\n",
              "      <th>RH_9</th>\n",
              "      <th>T_out</th>\n",
              "      <th>Press_mm_hg</th>\n",
              "      <th>RH_out</th>\n",
              "      <th>Windspeed</th>\n",
              "      <th>Visibility</th>\n",
              "      <th>Tdewpoint</th>\n",
              "      <th>rv1</th>\n",
              "      <th>rv2</th>\n",
              "    </tr>\n",
              "  </thead>\n",
              "  <tbody>\n",
              "    <tr>\n",
              "      <th>count</th>\n",
              "      <td>19735.000000</td>\n",
              "      <td>19735.000000</td>\n",
              "      <td>19735.000000</td>\n",
              "      <td>19735.000000</td>\n",
              "      <td>19735.000000</td>\n",
              "      <td>19735.000000</td>\n",
              "      <td>19735.000000</td>\n",
              "      <td>19735.000000</td>\n",
              "      <td>19735.000000</td>\n",
              "      <td>19735.000000</td>\n",
              "      <td>...</td>\n",
              "      <td>19735.000000</td>\n",
              "      <td>19735.000000</td>\n",
              "      <td>19735.000000</td>\n",
              "      <td>19735.000000</td>\n",
              "      <td>19735.000000</td>\n",
              "      <td>19735.000000</td>\n",
              "      <td>19735.000000</td>\n",
              "      <td>19735.000000</td>\n",
              "      <td>19735.000000</td>\n",
              "      <td>19735.000000</td>\n",
              "    </tr>\n",
              "    <tr>\n",
              "      <th>mean</th>\n",
              "      <td>97.694958</td>\n",
              "      <td>3.801875</td>\n",
              "      <td>21.686571</td>\n",
              "      <td>40.259739</td>\n",
              "      <td>20.341219</td>\n",
              "      <td>40.420420</td>\n",
              "      <td>22.267611</td>\n",
              "      <td>39.242500</td>\n",
              "      <td>20.855335</td>\n",
              "      <td>39.026904</td>\n",
              "      <td>...</td>\n",
              "      <td>19.485828</td>\n",
              "      <td>41.552401</td>\n",
              "      <td>7.411665</td>\n",
              "      <td>755.522602</td>\n",
              "      <td>79.750418</td>\n",
              "      <td>4.039752</td>\n",
              "      <td>38.330834</td>\n",
              "      <td>3.760707</td>\n",
              "      <td>24.988033</td>\n",
              "      <td>24.988033</td>\n",
              "    </tr>\n",
              "    <tr>\n",
              "      <th>std</th>\n",
              "      <td>102.524891</td>\n",
              "      <td>7.935988</td>\n",
              "      <td>1.606066</td>\n",
              "      <td>3.979299</td>\n",
              "      <td>2.192974</td>\n",
              "      <td>4.069813</td>\n",
              "      <td>2.006111</td>\n",
              "      <td>3.254576</td>\n",
              "      <td>2.042884</td>\n",
              "      <td>4.341321</td>\n",
              "      <td>...</td>\n",
              "      <td>2.014712</td>\n",
              "      <td>4.151497</td>\n",
              "      <td>5.317409</td>\n",
              "      <td>7.399441</td>\n",
              "      <td>14.901088</td>\n",
              "      <td>2.451221</td>\n",
              "      <td>11.794719</td>\n",
              "      <td>4.194648</td>\n",
              "      <td>14.496634</td>\n",
              "      <td>14.496634</td>\n",
              "    </tr>\n",
              "    <tr>\n",
              "      <th>min</th>\n",
              "      <td>10.000000</td>\n",
              "      <td>0.000000</td>\n",
              "      <td>16.790000</td>\n",
              "      <td>27.023333</td>\n",
              "      <td>16.100000</td>\n",
              "      <td>20.463333</td>\n",
              "      <td>17.200000</td>\n",
              "      <td>28.766667</td>\n",
              "      <td>15.100000</td>\n",
              "      <td>27.660000</td>\n",
              "      <td>...</td>\n",
              "      <td>14.890000</td>\n",
              "      <td>29.166667</td>\n",
              "      <td>-5.000000</td>\n",
              "      <td>729.300000</td>\n",
              "      <td>24.000000</td>\n",
              "      <td>0.000000</td>\n",
              "      <td>1.000000</td>\n",
              "      <td>-6.600000</td>\n",
              "      <td>0.005322</td>\n",
              "      <td>0.005322</td>\n",
              "    </tr>\n",
              "    <tr>\n",
              "      <th>25%</th>\n",
              "      <td>50.000000</td>\n",
              "      <td>0.000000</td>\n",
              "      <td>20.760000</td>\n",
              "      <td>37.333333</td>\n",
              "      <td>18.790000</td>\n",
              "      <td>37.900000</td>\n",
              "      <td>20.790000</td>\n",
              "      <td>36.900000</td>\n",
              "      <td>19.530000</td>\n",
              "      <td>35.530000</td>\n",
              "      <td>...</td>\n",
              "      <td>18.000000</td>\n",
              "      <td>38.500000</td>\n",
              "      <td>3.666667</td>\n",
              "      <td>750.933333</td>\n",
              "      <td>70.333333</td>\n",
              "      <td>2.000000</td>\n",
              "      <td>29.000000</td>\n",
              "      <td>0.900000</td>\n",
              "      <td>12.497889</td>\n",
              "      <td>12.497889</td>\n",
              "    </tr>\n",
              "    <tr>\n",
              "      <th>50%</th>\n",
              "      <td>60.000000</td>\n",
              "      <td>0.000000</td>\n",
              "      <td>21.600000</td>\n",
              "      <td>39.656667</td>\n",
              "      <td>20.000000</td>\n",
              "      <td>40.500000</td>\n",
              "      <td>22.100000</td>\n",
              "      <td>38.530000</td>\n",
              "      <td>20.666667</td>\n",
              "      <td>38.400000</td>\n",
              "      <td>...</td>\n",
              "      <td>19.390000</td>\n",
              "      <td>40.900000</td>\n",
              "      <td>6.916667</td>\n",
              "      <td>756.100000</td>\n",
              "      <td>83.666667</td>\n",
              "      <td>3.666667</td>\n",
              "      <td>40.000000</td>\n",
              "      <td>3.433333</td>\n",
              "      <td>24.897653</td>\n",
              "      <td>24.897653</td>\n",
              "    </tr>\n",
              "    <tr>\n",
              "      <th>75%</th>\n",
              "      <td>100.000000</td>\n",
              "      <td>0.000000</td>\n",
              "      <td>22.600000</td>\n",
              "      <td>43.066667</td>\n",
              "      <td>21.500000</td>\n",
              "      <td>43.260000</td>\n",
              "      <td>23.290000</td>\n",
              "      <td>41.760000</td>\n",
              "      <td>22.100000</td>\n",
              "      <td>42.156667</td>\n",
              "      <td>...</td>\n",
              "      <td>20.600000</td>\n",
              "      <td>44.338095</td>\n",
              "      <td>10.408333</td>\n",
              "      <td>760.933333</td>\n",
              "      <td>91.666667</td>\n",
              "      <td>5.500000</td>\n",
              "      <td>40.000000</td>\n",
              "      <td>6.566667</td>\n",
              "      <td>37.583769</td>\n",
              "      <td>37.583769</td>\n",
              "    </tr>\n",
              "    <tr>\n",
              "      <th>max</th>\n",
              "      <td>1080.000000</td>\n",
              "      <td>70.000000</td>\n",
              "      <td>26.260000</td>\n",
              "      <td>63.360000</td>\n",
              "      <td>29.856667</td>\n",
              "      <td>56.026667</td>\n",
              "      <td>29.236000</td>\n",
              "      <td>50.163333</td>\n",
              "      <td>26.200000</td>\n",
              "      <td>51.090000</td>\n",
              "      <td>...</td>\n",
              "      <td>24.500000</td>\n",
              "      <td>53.326667</td>\n",
              "      <td>26.100000</td>\n",
              "      <td>772.300000</td>\n",
              "      <td>100.000000</td>\n",
              "      <td>14.000000</td>\n",
              "      <td>66.000000</td>\n",
              "      <td>15.500000</td>\n",
              "      <td>49.996530</td>\n",
              "      <td>49.996530</td>\n",
              "    </tr>\n",
              "  </tbody>\n",
              "</table>\n",
              "<p>8 rows × 28 columns</p>\n",
              "</div>\n",
              "    <div class=\"colab-df-buttons\">\n",
              "\n",
              "  <div class=\"colab-df-container\">\n",
              "    <button class=\"colab-df-convert\" onclick=\"convertToInteractive('df-e3e918c5-d750-4c34-8529-54d9c79373c6')\"\n",
              "            title=\"Convert this dataframe to an interactive table.\"\n",
              "            style=\"display:none;\">\n",
              "\n",
              "  <svg xmlns=\"http://www.w3.org/2000/svg\" height=\"24px\" viewBox=\"0 -960 960 960\">\n",
              "    <path d=\"M120-120v-720h720v720H120Zm60-500h600v-160H180v160Zm220 220h160v-160H400v160Zm0 220h160v-160H400v160ZM180-400h160v-160H180v160Zm440 0h160v-160H620v160ZM180-180h160v-160H180v160Zm440 0h160v-160H620v160Z\"/>\n",
              "  </svg>\n",
              "    </button>\n",
              "\n",
              "  <style>\n",
              "    .colab-df-container {\n",
              "      display:flex;\n",
              "      gap: 12px;\n",
              "    }\n",
              "\n",
              "    .colab-df-convert {\n",
              "      background-color: #E8F0FE;\n",
              "      border: none;\n",
              "      border-radius: 50%;\n",
              "      cursor: pointer;\n",
              "      display: none;\n",
              "      fill: #1967D2;\n",
              "      height: 32px;\n",
              "      padding: 0 0 0 0;\n",
              "      width: 32px;\n",
              "    }\n",
              "\n",
              "    .colab-df-convert:hover {\n",
              "      background-color: #E2EBFA;\n",
              "      box-shadow: 0px 1px 2px rgba(60, 64, 67, 0.3), 0px 1px 3px 1px rgba(60, 64, 67, 0.15);\n",
              "      fill: #174EA6;\n",
              "    }\n",
              "\n",
              "    .colab-df-buttons div {\n",
              "      margin-bottom: 4px;\n",
              "    }\n",
              "\n",
              "    [theme=dark] .colab-df-convert {\n",
              "      background-color: #3B4455;\n",
              "      fill: #D2E3FC;\n",
              "    }\n",
              "\n",
              "    [theme=dark] .colab-df-convert:hover {\n",
              "      background-color: #434B5C;\n",
              "      box-shadow: 0px 1px 3px 1px rgba(0, 0, 0, 0.15);\n",
              "      filter: drop-shadow(0px 1px 2px rgba(0, 0, 0, 0.3));\n",
              "      fill: #FFFFFF;\n",
              "    }\n",
              "  </style>\n",
              "\n",
              "    <script>\n",
              "      const buttonEl =\n",
              "        document.querySelector('#df-e3e918c5-d750-4c34-8529-54d9c79373c6 button.colab-df-convert');\n",
              "      buttonEl.style.display =\n",
              "        google.colab.kernel.accessAllowed ? 'block' : 'none';\n",
              "\n",
              "      async function convertToInteractive(key) {\n",
              "        const element = document.querySelector('#df-e3e918c5-d750-4c34-8529-54d9c79373c6');\n",
              "        const dataTable =\n",
              "          await google.colab.kernel.invokeFunction('convertToInteractive',\n",
              "                                                    [key], {});\n",
              "        if (!dataTable) return;\n",
              "\n",
              "        const docLinkHtml = 'Like what you see? Visit the ' +\n",
              "          '<a target=\"_blank\" href=https://colab.research.google.com/notebooks/data_table.ipynb>data table notebook</a>'\n",
              "          + ' to learn more about interactive tables.';\n",
              "        element.innerHTML = '';\n",
              "        dataTable['output_type'] = 'display_data';\n",
              "        await google.colab.output.renderOutput(dataTable, element);\n",
              "        const docLink = document.createElement('div');\n",
              "        docLink.innerHTML = docLinkHtml;\n",
              "        element.appendChild(docLink);\n",
              "      }\n",
              "    </script>\n",
              "  </div>\n",
              "\n",
              "\n",
              "<div id=\"df-fee07966-9522-4425-8ba7-262584d77906\">\n",
              "  <button class=\"colab-df-quickchart\" onclick=\"quickchart('df-fee07966-9522-4425-8ba7-262584d77906')\"\n",
              "            title=\"Suggest charts.\"\n",
              "            style=\"display:none;\">\n",
              "\n",
              "<svg xmlns=\"http://www.w3.org/2000/svg\" height=\"24px\"viewBox=\"0 0 24 24\"\n",
              "     width=\"24px\">\n",
              "    <g>\n",
              "        <path d=\"M19 3H5c-1.1 0-2 .9-2 2v14c0 1.1.9 2 2 2h14c1.1 0 2-.9 2-2V5c0-1.1-.9-2-2-2zM9 17H7v-7h2v7zm4 0h-2V7h2v10zm4 0h-2v-4h2v4z\"/>\n",
              "    </g>\n",
              "</svg>\n",
              "  </button>\n",
              "\n",
              "<style>\n",
              "  .colab-df-quickchart {\n",
              "      --bg-color: #E8F0FE;\n",
              "      --fill-color: #1967D2;\n",
              "      --hover-bg-color: #E2EBFA;\n",
              "      --hover-fill-color: #174EA6;\n",
              "      --disabled-fill-color: #AAA;\n",
              "      --disabled-bg-color: #DDD;\n",
              "  }\n",
              "\n",
              "  [theme=dark] .colab-df-quickchart {\n",
              "      --bg-color: #3B4455;\n",
              "      --fill-color: #D2E3FC;\n",
              "      --hover-bg-color: #434B5C;\n",
              "      --hover-fill-color: #FFFFFF;\n",
              "      --disabled-bg-color: #3B4455;\n",
              "      --disabled-fill-color: #666;\n",
              "  }\n",
              "\n",
              "  .colab-df-quickchart {\n",
              "    background-color: var(--bg-color);\n",
              "    border: none;\n",
              "    border-radius: 50%;\n",
              "    cursor: pointer;\n",
              "    display: none;\n",
              "    fill: var(--fill-color);\n",
              "    height: 32px;\n",
              "    padding: 0;\n",
              "    width: 32px;\n",
              "  }\n",
              "\n",
              "  .colab-df-quickchart:hover {\n",
              "    background-color: var(--hover-bg-color);\n",
              "    box-shadow: 0 1px 2px rgba(60, 64, 67, 0.3), 0 1px 3px 1px rgba(60, 64, 67, 0.15);\n",
              "    fill: var(--button-hover-fill-color);\n",
              "  }\n",
              "\n",
              "  .colab-df-quickchart-complete:disabled,\n",
              "  .colab-df-quickchart-complete:disabled:hover {\n",
              "    background-color: var(--disabled-bg-color);\n",
              "    fill: var(--disabled-fill-color);\n",
              "    box-shadow: none;\n",
              "  }\n",
              "\n",
              "  .colab-df-spinner {\n",
              "    border: 2px solid var(--fill-color);\n",
              "    border-color: transparent;\n",
              "    border-bottom-color: var(--fill-color);\n",
              "    animation:\n",
              "      spin 1s steps(1) infinite;\n",
              "  }\n",
              "\n",
              "  @keyframes spin {\n",
              "    0% {\n",
              "      border-color: transparent;\n",
              "      border-bottom-color: var(--fill-color);\n",
              "      border-left-color: var(--fill-color);\n",
              "    }\n",
              "    20% {\n",
              "      border-color: transparent;\n",
              "      border-left-color: var(--fill-color);\n",
              "      border-top-color: var(--fill-color);\n",
              "    }\n",
              "    30% {\n",
              "      border-color: transparent;\n",
              "      border-left-color: var(--fill-color);\n",
              "      border-top-color: var(--fill-color);\n",
              "      border-right-color: var(--fill-color);\n",
              "    }\n",
              "    40% {\n",
              "      border-color: transparent;\n",
              "      border-right-color: var(--fill-color);\n",
              "      border-top-color: var(--fill-color);\n",
              "    }\n",
              "    60% {\n",
              "      border-color: transparent;\n",
              "      border-right-color: var(--fill-color);\n",
              "    }\n",
              "    80% {\n",
              "      border-color: transparent;\n",
              "      border-right-color: var(--fill-color);\n",
              "      border-bottom-color: var(--fill-color);\n",
              "    }\n",
              "    90% {\n",
              "      border-color: transparent;\n",
              "      border-bottom-color: var(--fill-color);\n",
              "    }\n",
              "  }\n",
              "</style>\n",
              "\n",
              "  <script>\n",
              "    async function quickchart(key) {\n",
              "      const quickchartButtonEl =\n",
              "        document.querySelector('#' + key + ' button');\n",
              "      quickchartButtonEl.disabled = true;  // To prevent multiple clicks.\n",
              "      quickchartButtonEl.classList.add('colab-df-spinner');\n",
              "      try {\n",
              "        const charts = await google.colab.kernel.invokeFunction(\n",
              "            'suggestCharts', [key], {});\n",
              "      } catch (error) {\n",
              "        console.error('Error during call to suggestCharts:', error);\n",
              "      }\n",
              "      quickchartButtonEl.classList.remove('colab-df-spinner');\n",
              "      quickchartButtonEl.classList.add('colab-df-quickchart-complete');\n",
              "    }\n",
              "    (() => {\n",
              "      let quickchartButtonEl =\n",
              "        document.querySelector('#df-fee07966-9522-4425-8ba7-262584d77906 button');\n",
              "      quickchartButtonEl.style.display =\n",
              "        google.colab.kernel.accessAllowed ? 'block' : 'none';\n",
              "    })();\n",
              "  </script>\n",
              "</div>\n",
              "    </div>\n",
              "  </div>\n"
            ]
          },
          "metadata": {},
          "execution_count": 5
        }
      ]
    },
    {
      "cell_type": "code",
      "source": [
        "df.isnull().sum()"
      ],
      "metadata": {
        "colab": {
          "base_uri": "https://localhost:8080/"
        },
        "id": "lvIzjc3jyW4n",
        "outputId": "d85b64f7-c43f-4780-f841-674054f96821"
      },
      "execution_count": 6,
      "outputs": [
        {
          "output_type": "execute_result",
          "data": {
            "text/plain": [
              "date           0\n",
              "Appliances     0\n",
              "lights         0\n",
              "T1             0\n",
              "RH_1           0\n",
              "T2             0\n",
              "RH_2           0\n",
              "T3             0\n",
              "RH_3           0\n",
              "T4             0\n",
              "RH_4           0\n",
              "T5             0\n",
              "RH_5           0\n",
              "T6             0\n",
              "RH_6           0\n",
              "T7             0\n",
              "RH_7           0\n",
              "T8             0\n",
              "RH_8           0\n",
              "T9             0\n",
              "RH_9           0\n",
              "T_out          0\n",
              "Press_mm_hg    0\n",
              "RH_out         0\n",
              "Windspeed      0\n",
              "Visibility     0\n",
              "Tdewpoint      0\n",
              "rv1            0\n",
              "rv2            0\n",
              "dtype: int64"
            ]
          },
          "metadata": {},
          "execution_count": 6
        }
      ]
    },
    {
      "cell_type": "code",
      "source": [
        "X = df['T2'].values.reshape(-1,1)\n",
        "y = df['T6'].values"
      ],
      "metadata": {
        "id": "Z40luPu6iVb0"
      },
      "execution_count": 7,
      "outputs": []
    },
    {
      "cell_type": "code",
      "source": [
        "sns.regplot(df, x=\"T2\", y=\"T6\")"
      ],
      "metadata": {
        "colab": {
          "base_uri": "https://localhost:8080/",
          "height": 466
        },
        "id": "nI6LKsuGzAN8",
        "outputId": "f9387c8f-b92b-46b3-ef3a-2a609c561bd2"
      },
      "execution_count": 8,
      "outputs": [
        {
          "output_type": "execute_result",
          "data": {
            "text/plain": [
              "<Axes: xlabel='T2', ylabel='T6'>"
            ]
          },
          "metadata": {},
          "execution_count": 8
        },
        {
          "output_type": "display_data",
          "data": {
            "text/plain": [
              "<Figure size 640x480 with 1 Axes>"
            ],
            "image/png": "[encoded data removed]"
          },
          "metadata": {}
        }
      ]
    },
    {
      "cell_type": "code",
      "source": [
        "sns.residplot(df, x=\"T2\", y=\"T6\")"
      ],
      "metadata": {
        "colab": {
          "base_uri": "https://localhost:8080/",
          "height": 466
        },
        "id": "sr1xtJ5xzRTo",
        "outputId": "c4e14f82-05cc-4445-862f-3ef0c6fefad4"
      },
      "execution_count": 9,
      "outputs": [
        {
          "output_type": "execute_result",
          "data": {
            "text/plain": [
              "<Axes: xlabel='T2', ylabel='T6'>"
            ]
          },
          "metadata": {},
          "execution_count": 9
        },
        {
          "output_type": "display_data",
          "data": {
            "text/plain": [
              "<Figure size 640x480 with 1 Axes>"
            ],
            "image/png": "[encoded data removed]"
          },
          "metadata": {}
        }
      ]
    },
    {
      "cell_type": "code",
      "source": [
        "X_train, X_test, y_train, y_test = train_test_split(X, y, test_size=0.3, random_state=42)"
      ],
      "metadata": {
        "id": "uy7JNqKFippM"
      },
      "execution_count": 10,
      "outputs": []
    },
    {
      "cell_type": "code",
      "source": [
        "model = LinearRegression()\n",
        "model.fit(X_train, y_train)"
      ],
      "metadata": {
        "colab": {
          "base_uri": "https://localhost:8080/",
          "height": 74
        },
        "id": "tY6RaNXgisUL",
        "outputId": "1b8fcf8a-8d06-4777-f5ee-8537d3bd7b03"
      },
      "execution_count": 11,
      "outputs": [
        {
          "output_type": "execute_result",
          "data": {
            "text/plain": [
              "LinearRegression()"
            ],
            "text/html": [
              "<style>#sk-container-id-1 {color: black;background-color: white;}#sk-container-id-1 pre{padding: 0;}#sk-container-id-1 div.sk-toggleable {background-color: white;}#sk-container-id-1 label.sk-toggleable__label {cursor: pointer;display: block;width: 100%;margin-bottom: 0;padding: 0.3em;box-sizing: border-box;text-align: center;}#sk-container-id-1 label.sk-toggleable__label-arrow:before {content: \"▸\";float: left;margin-right: 0.25em;color: #696969;}#sk-container-id-1 label.sk-toggleable__label-arrow:hover:before {color: black;}#sk-container-id-1 div.sk-estimator:hover label.sk-toggleable__label-arrow:before {color: black;}#sk-container-id-1 div.sk-toggleable__content {max-height: 0;max-width: 0;overflow: hidden;text-align: left;background-color: #f0f8ff;}#sk-container-id-1 div.sk-toggleable__content pre {margin: 0.2em;color: black;border-radius: 0.25em;background-color: #f0f8ff;}#sk-container-id-1 input.sk-toggleable__control:checked~div.sk-toggleable__content {max-height: 200px;max-width: 100%;overflow: auto;}#sk-container-id-1 input.sk-toggleable__control:checked~label.sk-toggleable__label-arrow:before {content: \"▾\";}#sk-container-id-1 div.sk-estimator input.sk-toggleable__control:checked~label.sk-toggleable__label {background-color: #d4ebff;}#sk-container-id-1 div.sk-label input.sk-toggleable__control:checked~label.sk-toggleable__label {background-color: #d4ebff;}#sk-container-id-1 input.sk-hidden--visually {border: 0;clip: rect(1px 1px 1px 1px);clip: rect(1px, 1px, 1px, 1px);height: 1px;margin: -1px;overflow: hidden;padding: 0;position: absolute;width: 1px;}#sk-container-id-1 div.sk-estimator {font-family: monospace;background-color: #f0f8ff;border: 1px dotted black;border-radius: 0.25em;box-sizing: border-box;margin-bottom: 0.5em;}#sk-container-id-1 div.sk-estimator:hover {background-color: #d4ebff;}#sk-container-id-1 div.sk-parallel-item::after {content: \"\";width: 100%;border-bottom: 1px solid gray;flex-grow: 1;}#sk-container-id-1 div.sk-label:hover label.sk-toggleable__label {background-color: #d4ebff;}#sk-container-id-1 div.sk-serial::before {content: \"\";position: absolute;border-left: 1px solid gray;box-sizing: border-box;top: 0;bottom: 0;left: 50%;z-index: 0;}#sk-container-id-1 div.sk-serial {display: flex;flex-direction: column;align-items: center;background-color: white;padding-right: 0.2em;padding-left: 0.2em;position: relative;}#sk-container-id-1 div.sk-item {position: relative;z-index: 1;}#sk-container-id-1 div.sk-parallel {display: flex;align-items: stretch;justify-content: center;background-color: white;position: relative;}#sk-container-id-1 div.sk-item::before, #sk-container-id-1 div.sk-parallel-item::before {content: \"\";position: absolute;border-left: 1px solid gray;box-sizing: border-box;top: 0;bottom: 0;left: 50%;z-index: -1;}#sk-container-id-1 div.sk-parallel-item {display: flex;flex-direction: column;z-index: 1;position: relative;background-color: white;}#sk-container-id-1 div.sk-parallel-item:first-child::after {align-self: flex-end;width: 50%;}#sk-container-id-1 div.sk-parallel-item:last-child::after {align-self: flex-start;width: 50%;}#sk-container-id-1 div.sk-parallel-item:only-child::after {width: 0;}#sk-container-id-1 div.sk-dashed-wrapped {border: 1px dashed gray;margin: 0 0.4em 0.5em 0.4em;box-sizing: border-box;padding-bottom: 0.4em;background-color: white;}#sk-container-id-1 div.sk-label label {font-family: monospace;font-weight: bold;display: inline-block;line-height: 1.2em;}#sk-container-id-1 div.sk-label-container {text-align: center;}#sk-container-id-1 div.sk-container {/* jupyter's `normalize.less` sets `[hidden] { display: none; }` but bootstrap.min.css set `[hidden] { display: none !important; }` so we also need the `!important` here to be able to override the default hidden behavior on the sphinx rendered scikit-learn.org. See: https://github.com/scikit-learn/scikit-learn/issues/21755 */display: inline-block !important;position: relative;}#sk-container-id-1 div.sk-text-repr-fallback {display: none;}</style><div id=\"sk-container-id-1\" class=\"sk-top-container\"><div class=\"sk-text-repr-fallback\"><pre>LinearRegression()</pre><b>In a Jupyter environment, please rerun this cell to show the HTML representation or trust the notebook. <br />On GitHub, the HTML representation is unable to render, please try loading this page with nbviewer.org.</b></div><div class=\"sk-container\" hidden><div class=\"sk-item\"><div class=\"sk-estimator sk-toggleable\"><input class=\"sk-toggleable__control sk-hidden--visually\" id=\"sk-estimator-id-1\" type=\"checkbox\" checked><label for=\"sk-estimator-id-1\" class=\"sk-toggleable__label sk-toggleable__label-arrow\">LinearRegression</label><div class=\"sk-toggleable__content\"><pre>LinearRegression()</pre></div></div></div></div></div>"
            ]
          },
          "metadata": {},
          "execution_count": 11
        }
      ]
    },
    {
      "cell_type": "code",
      "source": [
        "y_pred = model.predict(X_test)"
      ],
      "metadata": {
        "id": "TT_00J3sis0r"
      },
      "execution_count": 12,
      "outputs": []
    },
    {
      "cell_type": "code",
      "source": [
        "rmse = sqrt(mean_squared_error(y_test, y_pred))"
      ],
      "metadata": {
        "id": "fj_SKVjJjOeb"
      },
      "execution_count": 13,
      "outputs": []
    },
    {
      "cell_type": "code",
      "source": [
        "rmse"
      ],
      "metadata": {
        "colab": {
          "base_uri": "https://localhost:8080/"
        },
        "id": "gJjoutL-jRKs",
        "outputId": "52cd11e2-9684-4fa3-cbbd-3f7c92ef7b6f"
      },
      "execution_count": 14,
      "outputs": [
        {
          "output_type": "execute_result",
          "data": {
            "text/plain": [
              "3.630315129680444"
            ]
          },
          "metadata": {},
          "execution_count": 14
        }
      ]
    },
    {
      "cell_type": "code",
      "source": [
        "df = df.drop(columns=[\"date\", \"lights\"])\n",
        "X = df.drop(columns=[\"Appliances\"])\n",
        "y = df[\"Appliances\"]"
      ],
      "metadata": {
        "id": "d30K02-sjUDi"
      },
      "execution_count": 15,
      "outputs": []
    },
    {
      "cell_type": "code",
      "source": [
        "scaler = MinMaxScaler()\n",
        "X_train = scaler.fit_transform(X_train)\n",
        "X_test = scaler.transform(X_test)"
      ],
      "metadata": {
        "id": "wCi2dZYLkCQI"
      },
      "execution_count": 16,
      "outputs": []
    },
    {
      "cell_type": "code",
      "source": [
        "model = LinearRegression()\n",
        "model.fit(X_train, y_train)"
      ],
      "metadata": {
        "colab": {
          "base_uri": "https://localhost:8080/",
          "height": 74
        },
        "id": "A_xBikKbkJ7x",
        "outputId": "fcd7ac21-e85d-47f3-ec26-a2e2421e4c75"
      },
      "execution_count": 17,
      "outputs": [
        {
          "output_type": "execute_result",
          "data": {
            "text/plain": [
              "LinearRegression()"
            ],
            "text/html": [
              "<style>#sk-container-id-2 {color: black;background-color: white;}#sk-container-id-2 pre{padding: 0;}#sk-container-id-2 div.sk-toggleable {background-color: white;}#sk-container-id-2 label.sk-toggleable__label {cursor: pointer;display: block;width: 100%;margin-bottom: 0;padding: 0.3em;box-sizing: border-box;text-align: center;}#sk-container-id-2 label.sk-toggleable__label-arrow:before {content: \"▸\";float: left;margin-right: 0.25em;color: #696969;}#sk-container-id-2 label.sk-toggleable__label-arrow:hover:before {color: black;}#sk-container-id-2 div.sk-estimator:hover label.sk-toggleable__label-arrow:before {color: black;}#sk-container-id-2 div.sk-toggleable__content {max-height: 0;max-width: 0;overflow: hidden;text-align: left;background-color: #f0f8ff;}#sk-container-id-2 div.sk-toggleable__content pre {margin: 0.2em;color: black;border-radius: 0.25em;background-color: #f0f8ff;}#sk-container-id-2 input.sk-toggleable__control:checked~div.sk-toggleable__content {max-height: 200px;max-width: 100%;overflow: auto;}#sk-container-id-2 input.sk-toggleable__control:checked~label.sk-toggleable__label-arrow:before {content: \"▾\";}#sk-container-id-2 div.sk-estimator input.sk-toggleable__control:checked~label.sk-toggleable__label {background-color: #d4ebff;}#sk-container-id-2 div.sk-label input.sk-toggleable__control:checked~label.sk-toggleable__label {background-color: #d4ebff;}#sk-container-id-2 input.sk-hidden--visually {border: 0;clip: rect(1px 1px 1px 1px);clip: rect(1px, 1px, 1px, 1px);height: 1px;margin: -1px;overflow: hidden;padding: 0;position: absolute;width: 1px;}#sk-container-id-2 div.sk-estimator {font-family: monospace;background-color: #f0f8ff;border: 1px dotted black;border-radius: 0.25em;box-sizing: border-box;margin-bottom: 0.5em;}#sk-container-id-2 div.sk-estimator:hover {background-color: #d4ebff;}#sk-container-id-2 div.sk-parallel-item::after {content: \"\";width: 100%;border-bottom: 1px solid gray;flex-grow: 1;}#sk-container-id-2 div.sk-label:hover label.sk-toggleable__label {background-color: #d4ebff;}#sk-container-id-2 div.sk-serial::before {content: \"\";position: absolute;border-left: 1px solid gray;box-sizing: border-box;top: 0;bottom: 0;left: 50%;z-index: 0;}#sk-container-id-2 div.sk-serial {display: flex;flex-direction: column;align-items: center;background-color: white;padding-right: 0.2em;padding-left: 0.2em;position: relative;}#sk-container-id-2 div.sk-item {position: relative;z-index: 1;}#sk-container-id-2 div.sk-parallel {display: flex;align-items: stretch;justify-content: center;background-color: white;position: relative;}#sk-container-id-2 div.sk-item::before, #sk-container-id-2 div.sk-parallel-item::before {content: \"\";position: absolute;border-left: 1px solid gray;box-sizing: border-box;top: 0;bottom: 0;left: 50%;z-index: -1;}#sk-container-id-2 div.sk-parallel-item {display: flex;flex-direction: column;z-index: 1;position: relative;background-color: white;}#sk-container-id-2 div.sk-parallel-item:first-child::after {align-self: flex-end;width: 50%;}#sk-container-id-2 div.sk-parallel-item:last-child::after {align-self: flex-start;width: 50%;}#sk-container-id-2 div.sk-parallel-item:only-child::after {width: 0;}#sk-container-id-2 div.sk-dashed-wrapped {border: 1px dashed gray;margin: 0 0.4em 0.5em 0.4em;box-sizing: border-box;padding-bottom: 0.4em;background-color: white;}#sk-container-id-2 div.sk-label label {font-family: monospace;font-weight: bold;display: inline-block;line-height: 1.2em;}#sk-container-id-2 div.sk-label-container {text-align: center;}#sk-container-id-2 div.sk-container {/* jupyter's `normalize.less` sets `[hidden] { display: none; }` but bootstrap.min.css set `[hidden] { display: none !important; }` so we also need the `!important` here to be able to override the default hidden behavior on the sphinx rendered scikit-learn.org. See: https://github.com/scikit-learn/scikit-learn/issues/21755 */display: inline-block !important;position: relative;}#sk-container-id-2 div.sk-text-repr-fallback {display: none;}</style><div id=\"sk-container-id-2\" class=\"sk-top-container\"><div class=\"sk-text-repr-fallback\"><pre>LinearRegression()</pre><b>In a Jupyter environment, please rerun this cell to show the HTML representation or trust the notebook. <br />On GitHub, the HTML representation is unable to render, please try loading this page with nbviewer.org.</b></div><div class=\"sk-container\" hidden><div class=\"sk-item\"><div class=\"sk-estimator sk-toggleable\"><input class=\"sk-toggleable__control sk-hidden--visually\" id=\"sk-estimator-id-2\" type=\"checkbox\" checked><label for=\"sk-estimator-id-2\" class=\"sk-toggleable__label sk-toggleable__label-arrow\">LinearRegression</label><div class=\"sk-toggleable__content\"><pre>LinearRegression()</pre></div></div></div></div></div>"
            ]
          },
          "metadata": {},
          "execution_count": 17
        }
      ]
    },
    {
      "cell_type": "code",
      "source": [
        "y_train_pred = model.predict(X_train)\n",
        "mae = mean_absolute_error(y_train, y_train_pred)"
      ],
      "metadata": {
        "id": "nYpRnszHkM7l"
      },
      "execution_count": 18,
      "outputs": []
    },
    {
      "cell_type": "code",
      "source": [
        "mae"
      ],
      "metadata": {
        "colab": {
          "base_uri": "https://localhost:8080/"
        },
        "id": "_3Zd2LQw1f5G",
        "outputId": "100a83e7-b5f2-495f-ed2b-d92af0edbfd8"
      },
      "execution_count": 19,
      "outputs": [
        {
          "output_type": "execute_result",
          "data": {
            "text/plain": [
              "2.846005383959966"
            ]
          },
          "metadata": {},
          "execution_count": 19
        }
      ]
    },
    {
      "cell_type": "code",
      "source": [
        "rmse = np.sqrt(mean_squared_error(y_train, y_train_pred))"
      ],
      "metadata": {
        "id": "XnolTlUOqa9f"
      },
      "execution_count": 20,
      "outputs": []
    },
    {
      "cell_type": "code",
      "source": [
        "rmse"
      ],
      "metadata": {
        "colab": {
          "base_uri": "https://localhost:8080/"
        },
        "id": "VKHaKQWXrCYl",
        "outputId": "e738224f-c0b7-485f-c1ed-eb970ce0ea8e"
      },
      "execution_count": 21,
      "outputs": [
        {
          "output_type": "execute_result",
          "data": {
            "text/plain": [
              "3.6505366823913605"
            ]
          },
          "metadata": {},
          "execution_count": 21
        }
      ]
    },
    {
      "cell_type": "code",
      "source": [
        "y_test_pred = model.predict(X_test)\n",
        "mae_test = mean_absolute_error(y_test, y_test_pred)"
      ],
      "metadata": {
        "id": "oopDQ1MgrD7N"
      },
      "execution_count": 22,
      "outputs": []
    },
    {
      "cell_type": "code",
      "source": [
        "mae_test"
      ],
      "metadata": {
        "colab": {
          "base_uri": "https://localhost:8080/"
        },
        "id": "6OMpCvtQrO-n",
        "outputId": "9584c206-7fa3-41e5-c564-27dd26e9f40a"
      },
      "execution_count": 23,
      "outputs": [
        {
          "output_type": "execute_result",
          "data": {
            "text/plain": [
              "2.8229401131313034"
            ]
          },
          "metadata": {},
          "execution_count": 23
        }
      ]
    },
    {
      "cell_type": "code",
      "source": [
        "rmse_test = np.sqrt(mean_squared_error(y_test, y_test_pred))"
      ],
      "metadata": {
        "id": "GRVmhdPCrVqK"
      },
      "execution_count": 24,
      "outputs": []
    },
    {
      "cell_type": "code",
      "source": [
        "rmse_test"
      ],
      "metadata": {
        "colab": {
          "base_uri": "https://localhost:8080/"
        },
        "id": "-jKoDLB_rgm9",
        "outputId": "2162b077-a019-4b40-a08c-a58c9e4acd13"
      },
      "execution_count": 25,
      "outputs": [
        {
          "output_type": "execute_result",
          "data": {
            "text/plain": [
              "3.630315129680444"
            ]
          },
          "metadata": {},
          "execution_count": 25
        }
      ]
    },
    {
      "cell_type": "code",
      "source": [
        "ridge_model = Ridge()\n",
        "ridge_model.fit(X_train, y_train)"
      ],
      "metadata": {
        "colab": {
          "base_uri": "https://localhost:8080/",
          "height": 74
        },
        "id": "7Zu8cPlIriUJ",
        "outputId": "b91a7ab5-ae31-4219-bc5b-ec2d3295987c"
      },
      "execution_count": 26,
      "outputs": [
        {
          "output_type": "execute_result",
          "data": {
            "text/plain": [
              "Ridge()"
            ],
            "text/html": [
              "<style>#sk-container-id-3 {color: black;background-color: white;}#sk-container-id-3 pre{padding: 0;}#sk-container-id-3 div.sk-toggleable {background-color: white;}#sk-container-id-3 label.sk-toggleable__label {cursor: pointer;display: block;width: 100%;margin-bottom: 0;padding: 0.3em;box-sizing: border-box;text-align: center;}#sk-container-id-3 label.sk-toggleable__label-arrow:before {content: \"▸\";float: left;margin-right: 0.25em;color: #696969;}#sk-container-id-3 label.sk-toggleable__label-arrow:hover:before {color: black;}#sk-container-id-3 div.sk-estimator:hover label.sk-toggleable__label-arrow:before {color: black;}#sk-container-id-3 div.sk-toggleable__content {max-height: 0;max-width: 0;overflow: hidden;text-align: left;background-color: #f0f8ff;}#sk-container-id-3 div.sk-toggleable__content pre {margin: 0.2em;color: black;border-radius: 0.25em;background-color: #f0f8ff;}#sk-container-id-3 input.sk-toggleable__control:checked~div.sk-toggleable__content {max-height: 200px;max-width: 100%;overflow: auto;}#sk-container-id-3 input.sk-toggleable__control:checked~label.sk-toggleable__label-arrow:before {content: \"▾\";}#sk-container-id-3 div.sk-estimator input.sk-toggleable__control:checked~label.sk-toggleable__label {background-color: #d4ebff;}#sk-container-id-3 div.sk-label input.sk-toggleable__control:checked~label.sk-toggleable__label {background-color: #d4ebff;}#sk-container-id-3 input.sk-hidden--visually {border: 0;clip: rect(1px 1px 1px 1px);clip: rect(1px, 1px, 1px, 1px);height: 1px;margin: -1px;overflow: hidden;padding: 0;position: absolute;width: 1px;}#sk-container-id-3 div.sk-estimator {font-family: monospace;background-color: #f0f8ff;border: 1px dotted black;border-radius: 0.25em;box-sizing: border-box;margin-bottom: 0.5em;}#sk-container-id-3 div.sk-estimator:hover {background-color: #d4ebff;}#sk-container-id-3 div.sk-parallel-item::after {content: \"\";width: 100%;border-bottom: 1px solid gray;flex-grow: 1;}#sk-container-id-3 div.sk-label:hover label.sk-toggleable__label {background-color: #d4ebff;}#sk-container-id-3 div.sk-serial::before {content: \"\";position: absolute;border-left: 1px solid gray;box-sizing: border-box;top: 0;bottom: 0;left: 50%;z-index: 0;}#sk-container-id-3 div.sk-serial {display: flex;flex-direction: column;align-items: center;background-color: white;padding-right: 0.2em;padding-left: 0.2em;position: relative;}#sk-container-id-3 div.sk-item {position: relative;z-index: 1;}#sk-container-id-3 div.sk-parallel {display: flex;align-items: stretch;justify-content: center;background-color: white;position: relative;}#sk-container-id-3 div.sk-item::before, #sk-container-id-3 div.sk-parallel-item::before {content: \"\";position: absolute;border-left: 1px solid gray;box-sizing: border-box;top: 0;bottom: 0;left: 50%;z-index: -1;}#sk-container-id-3 div.sk-parallel-item {display: flex;flex-direction: column;z-index: 1;position: relative;background-color: white;}#sk-container-id-3 div.sk-parallel-item:first-child::after {align-self: flex-end;width: 50%;}#sk-container-id-3 div.sk-parallel-item:last-child::after {align-self: flex-start;width: 50%;}#sk-container-id-3 div.sk-parallel-item:only-child::after {width: 0;}#sk-container-id-3 div.sk-dashed-wrapped {border: 1px dashed gray;margin: 0 0.4em 0.5em 0.4em;box-sizing: border-box;padding-bottom: 0.4em;background-color: white;}#sk-container-id-3 div.sk-label label {font-family: monospace;font-weight: bold;display: inline-block;line-height: 1.2em;}#sk-container-id-3 div.sk-label-container {text-align: center;}#sk-container-id-3 div.sk-container {/* jupyter's `normalize.less` sets `[hidden] { display: none; }` but bootstrap.min.css set `[hidden] { display: none !important; }` so we also need the `!important` here to be able to override the default hidden behavior on the sphinx rendered scikit-learn.org. See: https://github.com/scikit-learn/scikit-learn/issues/21755 */display: inline-block !important;position: relative;}#sk-container-id-3 div.sk-text-repr-fallback {display: none;}</style><div id=\"sk-container-id-3\" class=\"sk-top-container\"><div class=\"sk-text-repr-fallback\"><pre>Ridge()</pre><b>In a Jupyter environment, please rerun this cell to show the HTML representation or trust the notebook. <br />On GitHub, the HTML representation is unable to render, please try loading this page with nbviewer.org.</b></div><div class=\"sk-container\" hidden><div class=\"sk-item\"><div class=\"sk-estimator sk-toggleable\"><input class=\"sk-toggleable__control sk-hidden--visually\" id=\"sk-estimator-id-3\" type=\"checkbox\" checked><label for=\"sk-estimator-id-3\" class=\"sk-toggleable__label sk-toggleable__label-arrow\">Ridge</label><div class=\"sk-toggleable__content\"><pre>Ridge()</pre></div></div></div></div></div>"
            ]
          },
          "metadata": {},
          "execution_count": 26
        }
      ]
    },
    {
      "cell_type": "code",
      "source": [
        "y_test_pred_ridge = ridge_model.predict(X_test)"
      ],
      "metadata": {
        "id": "wwIgH593r35e"
      },
      "execution_count": 27,
      "outputs": []
    },
    {
      "cell_type": "code",
      "source": [
        "rmse_test_ridge = np.sqrt(mean_squared_error(y_test, y_test_pred_ridge))"
      ],
      "metadata": {
        "id": "PyczKTjPr5xh"
      },
      "execution_count": 28,
      "outputs": []
    },
    {
      "cell_type": "code",
      "source": [
        "rmse_test_ridge"
      ],
      "metadata": {
        "colab": {
          "base_uri": "https://localhost:8080/"
        },
        "id": "116u5sAM1v-3",
        "outputId": "6d7eb76f-1d95-49f4-a651-2b920d76e94b"
      },
      "execution_count": 29,
      "outputs": [
        {
          "output_type": "execute_result",
          "data": {
            "text/plain": [
              "3.630334335453174"
            ]
          },
          "metadata": {},
          "execution_count": 29
        }
      ]
    },
    {
      "cell_type": "code",
      "source": [
        "lasso_model = Lasso()\n",
        "lasso_model.fit(X_train, y_train)"
      ],
      "metadata": {
        "colab": {
          "base_uri": "https://localhost:8080/",
          "height": 74
        },
        "id": "dwM34Amhr74q",
        "outputId": "9543e6b3-951f-454a-d60b-29682f5604b9"
      },
      "execution_count": 30,
      "outputs": [
        {
          "output_type": "execute_result",
          "data": {
            "text/plain": [
              "Lasso()"
            ],
            "text/html": [
              "<style>#sk-container-id-4 {color: black;background-color: white;}#sk-container-id-4 pre{padding: 0;}#sk-container-id-4 div.sk-toggleable {background-color: white;}#sk-container-id-4 label.sk-toggleable__label {cursor: pointer;display: block;width: 100%;margin-bottom: 0;padding: 0.3em;box-sizing: border-box;text-align: center;}#sk-container-id-4 label.sk-toggleable__label-arrow:before {content: \"▸\";float: left;margin-right: 0.25em;color: #696969;}#sk-container-id-4 label.sk-toggleable__label-arrow:hover:before {color: black;}#sk-container-id-4 div.sk-estimator:hover label.sk-toggleable__label-arrow:before {color: black;}#sk-container-id-4 div.sk-toggleable__content {max-height: 0;max-width: 0;overflow: hidden;text-align: left;background-color: #f0f8ff;}#sk-container-id-4 div.sk-toggleable__content pre {margin: 0.2em;color: black;border-radius: 0.25em;background-color: #f0f8ff;}#sk-container-id-4 input.sk-toggleable__control:checked~div.sk-toggleable__content {max-height: 200px;max-width: 100%;overflow: auto;}#sk-container-id-4 input.sk-toggleable__control:checked~label.sk-toggleable__label-arrow:before {content: \"▾\";}#sk-container-id-4 div.sk-estimator input.sk-toggleable__control:checked~label.sk-toggleable__label {background-color: #d4ebff;}#sk-container-id-4 div.sk-label input.sk-toggleable__control:checked~label.sk-toggleable__label {background-color: #d4ebff;}#sk-container-id-4 input.sk-hidden--visually {border: 0;clip: rect(1px 1px 1px 1px);clip: rect(1px, 1px, 1px, 1px);height: 1px;margin: -1px;overflow: hidden;padding: 0;position: absolute;width: 1px;}#sk-container-id-4 div.sk-estimator {font-family: monospace;background-color: #f0f8ff;border: 1px dotted black;border-radius: 0.25em;box-sizing: border-box;margin-bottom: 0.5em;}#sk-container-id-4 div.sk-estimator:hover {background-color: #d4ebff;}#sk-container-id-4 div.sk-parallel-item::after {content: \"\";width: 100%;border-bottom: 1px solid gray;flex-grow: 1;}#sk-container-id-4 div.sk-label:hover label.sk-toggleable__label {background-color: #d4ebff;}#sk-container-id-4 div.sk-serial::before {content: \"\";position: absolute;border-left: 1px solid gray;box-sizing: border-box;top: 0;bottom: 0;left: 50%;z-index: 0;}#sk-container-id-4 div.sk-serial {display: flex;flex-direction: column;align-items: center;background-color: white;padding-right: 0.2em;padding-left: 0.2em;position: relative;}#sk-container-id-4 div.sk-item {position: relative;z-index: 1;}#sk-container-id-4 div.sk-parallel {display: flex;align-items: stretch;justify-content: center;background-color: white;position: relative;}#sk-container-id-4 div.sk-item::before, #sk-container-id-4 div.sk-parallel-item::before {content: \"\";position: absolute;border-left: 1px solid gray;box-sizing: border-box;top: 0;bottom: 0;left: 50%;z-index: -1;}#sk-container-id-4 div.sk-parallel-item {display: flex;flex-direction: column;z-index: 1;position: relative;background-color: white;}#sk-container-id-4 div.sk-parallel-item:first-child::after {align-self: flex-end;width: 50%;}#sk-container-id-4 div.sk-parallel-item:last-child::after {align-self: flex-start;width: 50%;}#sk-container-id-4 div.sk-parallel-item:only-child::after {width: 0;}#sk-container-id-4 div.sk-dashed-wrapped {border: 1px dashed gray;margin: 0 0.4em 0.5em 0.4em;box-sizing: border-box;padding-bottom: 0.4em;background-color: white;}#sk-container-id-4 div.sk-label label {font-family: monospace;font-weight: bold;display: inline-block;line-height: 1.2em;}#sk-container-id-4 div.sk-label-container {text-align: center;}#sk-container-id-4 div.sk-container {/* jupyter's `normalize.less` sets `[hidden] { display: none; }` but bootstrap.min.css set `[hidden] { display: none !important; }` so we also need the `!important` here to be able to override the default hidden behavior on the sphinx rendered scikit-learn.org. See: https://github.com/scikit-learn/scikit-learn/issues/21755 */display: inline-block !important;position: relative;}#sk-container-id-4 div.sk-text-repr-fallback {display: none;}</style><div id=\"sk-container-id-4\" class=\"sk-top-container\"><div class=\"sk-text-repr-fallback\"><pre>Lasso()</pre><b>In a Jupyter environment, please rerun this cell to show the HTML representation or trust the notebook. <br />On GitHub, the HTML representation is unable to render, please try loading this page with nbviewer.org.</b></div><div class=\"sk-container\" hidden><div class=\"sk-item\"><div class=\"sk-estimator sk-toggleable\"><input class=\"sk-toggleable__control sk-hidden--visually\" id=\"sk-estimator-id-4\" type=\"checkbox\" checked><label for=\"sk-estimator-id-4\" class=\"sk-toggleable__label sk-toggleable__label-arrow\">Lasso</label><div class=\"sk-toggleable__content\"><pre>Lasso()</pre></div></div></div></div></div>"
            ]
          },
          "metadata": {},
          "execution_count": 30
        }
      ]
    },
    {
      "cell_type": "code",
      "source": [
        "weight = lasso_model.coef_"
      ],
      "metadata": {
        "id": "I9uMQ-e5sUOX"
      },
      "execution_count": 31,
      "outputs": []
    },
    {
      "cell_type": "code",
      "source": [
        "nzf = np.sum(weight != 0)"
      ],
      "metadata": {
        "id": "7DQ3_nIAsWQt"
      },
      "execution_count": 32,
      "outputs": []
    },
    {
      "cell_type": "code",
      "source": [
        "nzf"
      ],
      "metadata": {
        "colab": {
          "base_uri": "https://localhost:8080/"
        },
        "id": "Ah7bBZiR2S8-",
        "outputId": "18ae4fbf-9c32-4f7e-82b1-7a1c69412e4b"
      },
      "execution_count": 33,
      "outputs": [
        {
          "output_type": "execute_result",
          "data": {
            "text/plain": [
              "0"
            ]
          },
          "metadata": {},
          "execution_count": 33
        }
      ]
    },
    {
      "cell_type": "code",
      "source": [
        "y_test_pred_l = lasso_model.predict(X_test)\n",
        "rmse_test_l = np.sqrt(mean_squared_error(y_test, y_test_pred_l))"
      ],
      "metadata": {
        "id": "eII0i29UsdB_"
      },
      "execution_count": 34,
      "outputs": []
    },
    {
      "cell_type": "code",
      "source": [
        "rmse_test_l"
      ],
      "metadata": {
        "colab": {
          "base_uri": "https://localhost:8080/"
        },
        "id": "9o7scTXzx_gP",
        "outputId": "dde9b775-5fb7-4ca4-9be6-b153fa02c295"
      },
      "execution_count": 35,
      "outputs": [
        {
          "output_type": "execute_result",
          "data": {
            "text/plain": [
              "6.074161220278539"
            ]
          },
          "metadata": {},
          "execution_count": 35
        }
      ]
    },
    {
      "cell_type": "code",
      "source": [],
      "metadata": {
        "id": "LsXBW76ZyBV3"
      },
      "execution_count": 35,
      "outputs": []
    }
  ]
}